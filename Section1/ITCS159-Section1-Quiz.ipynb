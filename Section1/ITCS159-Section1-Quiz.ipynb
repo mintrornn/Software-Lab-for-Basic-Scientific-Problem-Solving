{
 "cells": [
  {
   "cell_type": "markdown",
   "metadata": {},
   "source": [
    "<center>\n",
    "    <h1>Faculty of Information and Communication Technology</h1>\n",
    "    <h1>Mahidol University</h1>\n",
    "    <h2>ITCS159 Software Lab for Basic Scientific Problem Solving</h2>\n",
    "    <h2>Quiz</h2>\n",
    "</center>"
   ]
  },
  {
   "cell_type": "markdown",
   "metadata": {},
   "source": [
    "<h4>Direction: This is an Open book examination. Please give the comments for all lines of code to show your understanding. Without the comments, the quiz will not be scored.</h4>"
   ]
  },
  {
   "cell_type": "markdown",
   "metadata": {},
   "source": [
    "## Print your ID, your name, and section using Python here, e.g., \n",
    "## 6088159 Harry Potter Section: 1"
   ]
  },
  {
   "cell_type": "code",
   "execution_count": null,
   "metadata": {},
   "outputs": [],
   "source": []
  },
  {
   "cell_type": "markdown",
   "metadata": {},
   "source": [
    "<h2>Import all necessary packages in the below cell</h2>"
   ]
  },
  {
   "cell_type": "code",
   "execution_count": null,
   "metadata": {},
   "outputs": [],
   "source": []
  },
  {
   "cell_type": "markdown",
   "metadata": {},
   "source": [
    "<h2>Q1. Given the information of New York City Airbnb (<a href='https://www.kaggle.com/dgomonov/new-york-city-airbnb-open-data'>Ref</a>) as presented in a file named <i>AB_NYC_2019.csv</i>. Please answer the following questions.</h2>"
   ]
  },
  {
   "cell_type": "markdown",
   "metadata": {},
   "source": [
    "<h3>Q1.1. Show the data (1 point)</h3>"
   ]
  },
  {
   "cell_type": "code",
   "execution_count": null,
   "metadata": {},
   "outputs": [],
   "source": []
  },
  {
   "cell_type": "markdown",
   "metadata": {},
   "source": [
    "<h3>Q1.2. Please use python to check and show whether there is any colum has null value (1 point)</h3>"
   ]
  },
  {
   "cell_type": "code",
   "execution_count": null,
   "metadata": {},
   "outputs": [],
   "source": []
  },
  {
   "cell_type": "markdown",
   "metadata": {},
   "source": [
    "<h3>Q1.3. Show the number of rooms for each room type as shown in the below image (1 point)</h3>\n",
    "<img src=\"Q13_output.png\" />"
   ]
  },
  {
   "cell_type": "code",
   "execution_count": null,
   "metadata": {},
   "outputs": [],
   "source": []
  },
  {
   "cell_type": "markdown",
   "metadata": {},
   "source": [
    "<h3>Q1.4. Using <i>Matplotlib</i> library to display the following output (2 points)</h3>\n",
    "<img src=\"Q14_output.png\" />"
   ]
  },
  {
   "cell_type": "code",
   "execution_count": null,
   "metadata": {},
   "outputs": [],
   "source": []
  },
  {
   "cell_type": "markdown",
   "metadata": {},
   "source": [
    "<h3>Q1.5. Apply <i>KMeans</i> clustering technique from <i>sklearn</i> library to compute <i>n</i> clusters of data in dataset <i>df</i> loaded in Q1.1, where <i>n</i> is the last digit of your student id. Only the data from column 'latitude', 'longitude', 'price', and 'number_of_reviews' are considered as inputs (X). Then, create a prediction model to predict the closest cluster for each sample in X belongs to and display the result of prediction where X is used as an input. (3 points)</h3>"
   ]
  },
  {
   "cell_type": "code",
   "execution_count": null,
   "metadata": {},
   "outputs": [],
   "source": []
  },
  {
   "cell_type": "markdown",
   "metadata": {},
   "source": [
    "<h3>Q1.6. Write a python code to measure cluster quality. (1 point)</h3>"
   ]
  },
  {
   "cell_type": "code",
   "execution_count": null,
   "metadata": {},
   "outputs": [],
   "source": []
  },
  {
   "cell_type": "markdown",
   "metadata": {},
   "source": [
    "<h2>Q2. Given a two-arrows RGB image. Use your python knowledge to answer the following sub-questions.</h2>\n",
    "<img src=\"2arrows.png\" />"
   ]
  },
  {
   "cell_type": "markdown",
   "metadata": {},
   "source": [
    "<h3>Q2.1 What are the <i>shape</i> and <i>size</i> of the image? Please use Python to print them. (2 points)</h3>"
   ]
  },
  {
   "cell_type": "code",
   "execution_count": null,
   "metadata": {},
   "outputs": [],
   "source": []
  },
  {
   "cell_type": "markdown",
   "metadata": {},
   "source": [
    "<h3>Q2.2 Write a python code to crop the image and display as the following output? (1 point)</h3>\n",
    "<img src=\"Q22_output.png\" />"
   ]
  },
  {
   "cell_type": "code",
   "execution_count": null,
   "metadata": {},
   "outputs": [],
   "source": []
  },
  {
   "cell_type": "markdown",
   "metadata": {},
   "source": [
    "<h3>Q2.3 Write a python code to rotate the image <i>n</i> degrees, where <i>n</i> is the last three digits of your student id and display the output? (2 points)</h3>"
   ]
  },
  {
   "cell_type": "code",
   "execution_count": null,
   "metadata": {},
   "outputs": [],
   "source": []
  },
  {
   "cell_type": "markdown",
   "metadata": {},
   "source": [
    "<h2>Q3. Given the following data about Auto MPG [1] (<a href='https://archive.ics.uci.edu/ml/datasets/auto+mpg'>Ref</a>). Please answer the following question</h2>\n",
    "\n",
    "<h3>Data Set Information:</h3>\n",
    "This dataset is a slightly modified version of the dataset provided in the StatLib library. In line with the use by Ross Quinlan (1993) in predicting the attribute \"mpg\", 8 of the original instances were removed because they had unknown values for the \"mpg\" attribute. The original dataset is available in the file \"auto-mpg.data-original\".\n",
    "\n",
    "<h3>Attribute Information:</h3>\n",
    "<ol>\n",
    "    <li>mpg: continuous</li>\n",
    "    <li>cylinders: multi-valued discrete</li>\n",
    "    <li>displacement: continuous</li>\n",
    "    <li>horsepower: continuous</li>\n",
    "    <li>weight: continuous</li>\n",
    "    <li>acceleration: continuous</li>\n",
    "    <li>model year: multi-valued discrete</li>\n",
    "    <li>origin: multi-valued discrete</li>\n",
    "    <li>car name: string (unique for each instance)</li>\n",
    "</ol>\n",
    "\n",
    "<h3>Reference</h3>\n",
    "<ol>\n",
    "    <li>Quinlan,R. (1993). Combining Instance-Based and Model-Based Learning. In Proceedings on the Tenth International Conference of Machine Learning, 236-243, University of Massachusetts, Amherst. Morgan Kaufmann.</li>\n",
    "</ol>\n"
   ]
  },
  {
   "cell_type": "markdown",
   "metadata": {},
   "source": [
    "<h3>Q3.1 Show the first five rows of the data as shown below. (2 points)</h3>\n",
    "<img src='Q31_output.png'/>"
   ]
  },
  {
   "cell_type": "code",
   "execution_count": null,
   "metadata": {},
   "outputs": [],
   "source": []
  },
  {
   "cell_type": "markdown",
   "metadata": {},
   "source": [
    "<h3>Q3.2 Find the correlation of this data and the following questions</h3>"
   ]
  },
  {
   "cell_type": "markdown",
   "metadata": {},
   "source": [
    "<h4>Q3.2.1 Find the correlation and show the output (2 point)</h4>"
   ]
  },
  {
   "cell_type": "code",
   "execution_count": null,
   "metadata": {},
   "outputs": [],
   "source": []
  },
  {
   "cell_type": "markdown",
   "metadata": {},
   "source": [
    "<h4>Q3.2.2 Which pair of variables has the strongest positive correlation, and what does it mean? (2 points)</h4>"
   ]
  },
  {
   "cell_type": "code",
   "execution_count": null,
   "metadata": {},
   "outputs": [],
   "source": []
  }
 ],
 "metadata": {
  "kernelspec": {
   "display_name": "Python 3",
   "language": "python",
   "name": "python3"
  },
  "language_info": {
   "codemirror_mode": {
    "name": "ipython",
    "version": 3
   },
   "file_extension": ".py",
   "mimetype": "text/x-python",
   "name": "python",
   "nbconvert_exporter": "python",
   "pygments_lexer": "ipython3",
   "version": "3.8.3"
  }
 },
 "nbformat": 4,
 "nbformat_minor": 4
}
