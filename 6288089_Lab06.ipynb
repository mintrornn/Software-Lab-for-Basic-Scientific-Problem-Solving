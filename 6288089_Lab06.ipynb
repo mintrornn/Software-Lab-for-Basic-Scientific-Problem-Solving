{
 "cells": [
  {
   "cell_type": "code",
   "execution_count": 37,
   "metadata": {},
   "outputs": [],
   "source": [
    "#Exercise1\n",
    "import scipy\n",
    "from scipy.cluster.vq import kmeans,vq,whiten\n",
    "# Score of 20 students in on subjects\n",
    "student_scores = [[80] , [78] , [55] , [60] , [62] ,\n",
    "                  [59] , [48] , [49] , [51] , [54] ,\n",
    "                  [72] , [95] , [78] , [54] , [50] ,\n",
    "                  [61] , [57] , [56] , [65] , [53]\n",
    "                 ];"
   ]
  },
  {
   "cell_type": "code",
   "execution_count": 38,
   "metadata": {},
   "outputs": [
    {
     "name": "stdout",
     "output_type": "stream",
     "text": [
      "[[6.53573177]\n",
      " [6.37233848]\n",
      " [4.49331559]\n",
      " [4.90179883]\n",
      " [5.06519213]\n",
      " [4.82010218]\n",
      " [3.92143906]\n",
      " [4.00313571]\n",
      " [4.16652901]\n",
      " [4.41161895]\n",
      " [5.8821586 ]\n",
      " [7.76118148]\n",
      " [6.37233848]\n",
      " [4.41161895]\n",
      " [4.08483236]\n",
      " [4.98349548]\n",
      " [4.65670889]\n",
      " [4.57501224]\n",
      " [5.31028207]\n",
      " [4.3299223 ]]\n",
      "[[6.58474976]\n",
      " [4.54233358]]\n"
     ]
    }
   ],
   "source": [
    "#Exercise2\n",
    "student_scores = whiten(student_scores)\n",
    "centroids,_ = kmeans(student_scores,2)\n",
    "\n",
    "print(student_scores)\n",
    "print(centroids)"
   ]
  },
  {
   "cell_type": "code",
   "execution_count": 39,
   "metadata": {},
   "outputs": [
    {
     "name": "stdout",
     "output_type": "stream",
     "text": [
      "[0 0 1 1 1 1 1 1 1 1 0 0 0 1 1 1 1 1 1 1]\n"
     ]
    }
   ],
   "source": [
    "#Exercise3\n",
    "result,_ = vq(student_scores,centroids)\n",
    "\n",
    "print(result)"
   ]
  },
  {
   "cell_type": "markdown",
   "metadata": {},
   "source": [
    "To compare the data with centroid and assign the observation to closet cluster."
   ]
  },
  {
   "cell_type": "code",
   "execution_count": 40,
   "metadata": {},
   "outputs": [
    {
     "name": "stdout",
     "output_type": "stream",
     "text": [
      "[[6.53573177]\n",
      " [6.37233848]\n",
      " [4.49331559]\n",
      " [4.90179883]\n",
      " [5.06519213]\n",
      " [4.82010218]\n",
      " [3.92143906]\n",
      " [4.00313571]\n",
      " [4.16652901]\n",
      " [4.41161895]\n",
      " [5.8821586 ]\n",
      " [7.76118148]\n",
      " [6.37233848]\n",
      " [4.41161895]\n",
      " [4.08483236]\n",
      " [4.98349548]\n",
      " [4.65670889]\n",
      " [4.57501224]\n",
      " [5.31028207]\n",
      " [4.3299223 ]]\n",
      "[[7.76118148]\n",
      " [6.29064183]\n",
      " [4.90179883]\n",
      " [4.22780149]]\n",
      "[1 1 3 2 2 2 3 3 3 3 1 0 1 3 3 2 2 2 2 3] [2.45089942e-01 8.16966472e-02 2.65514103e-01 8.88178420e-16\n",
      " 1.63393294e-01 8.16966472e-02 3.06362427e-01 2.24665780e-01\n",
      " 6.12724854e-02 1.83817456e-01 4.08483236e-01 0.00000000e+00\n",
      " 8.16966472e-02 1.83817456e-01 1.42969133e-01 8.16966472e-02\n",
      " 2.45089942e-01 3.26786589e-01 4.08483236e-01 1.02120809e-01]\n"
     ]
    }
   ],
   "source": [
    "#Exercise4\n",
    "student_scores = whiten(student_scores)\n",
    "centroids,_ = kmeans(student_scores,4)\n",
    "result,_ = vq(student_scores, centroids)\n",
    "print(student_scores)\n",
    "print(centroids)\n",
    "print(result,_)"
   ]
  },
  {
   "cell_type": "code",
   "execution_count": 42,
   "metadata": {},
   "outputs": [
    {
     "name": "stdout",
     "output_type": "stream",
     "text": [
      "[[6.53573177 5.57942592]\n",
      " [6.37233848 4.33955349]\n",
      " [4.49331559 4.9594897 ]\n",
      " [4.90179883 4.72701362]\n",
      " [5.06519213 3.4871412 ]\n",
      " [4.82010218 5.50193389]\n",
      " [3.92143906 6.58682226]\n",
      " [4.00313571 3.4871412 ]\n",
      " [4.16652901 4.26206146]\n",
      " [4.41161895 4.80450565]\n",
      " [5.8821586  6.27685415]\n",
      " [7.76118148 6.27685415]\n",
      " [6.37233848 7.12926645]\n",
      " [4.41161895 6.19936213]\n",
      " [4.08483236 3.87460133]\n",
      " [4.98349548 5.03698173]\n",
      " [4.65670889 4.80450565]\n",
      " [4.57501224 4.26206146]\n",
      " [5.31028207 4.88199768]\n",
      " [4.3299223  5.57942592]]\n",
      "[[4.22099344 6.1218701 ]\n",
      " [4.37894029 3.87460133]\n",
      " [6.58474976 5.92039083]\n",
      " [4.79676028 4.9594897 ]]\n",
      "[2 2 3 3 1 3 0 1 1 3 2 2 2 0 1 3 3 1 3 0]\n"
     ]
    }
   ],
   "source": [
    "#Exercise5\n",
    "student_scores = [[80 , 72] , [78 , 56] , [55 , 64] , [60 , 61] , [62 , 45] ,\n",
    "                  [59 , 71] , [48 , 85] , [49 , 45] , [51 , 55] , [54 , 62] ,\n",
    "                  [72 , 81] , [95 , 81] , [78 , 92] , [54 , 80] , [50 , 50] ,\n",
    "                  [61 , 65] , [57 , 62] , [56 , 55] , [65 , 63] , [53 , 72]\n",
    "                 ];\n",
    "student_scores = whiten(student_scores)\n",
    "centroids,_ = kmeans(student_scores,4)\n",
    "result,_ = vq(student_scores, centroids)\n",
    "print(student_scores)\n",
    "print(centroids)\n",
    "print(result)"
   ]
  },
  {
   "cell_type": "markdown",
   "metadata": {},
   "source": [
    "The data is sepearate into 4 groups of kmean and and assign the observation to closet cluster."
   ]
  },
  {
   "cell_type": "code",
   "execution_count": 20,
   "metadata": {},
   "outputs": [
    {
     "name": "stdout",
     "output_type": "stream",
     "text": [
      "The PI is 3.141593\n",
      "The speed is light is c = 299792458.0\n",
      "The newton's gravity constant is G = 9.8\n"
     ]
    }
   ],
   "source": [
    "#Exercise6\n",
    "import scipy.constants\n",
    "print(\"The PI is %1.6f\"%scipy.constants.pi)\n",
    "print(\"The speed is light is c = %.1f\"%scipy.constants.c)\n",
    "print(\"The newton's gravity constant is G = %.1F\"%scipy.constants.g)\n"
   ]
  },
  {
   "cell_type": "code",
   "execution_count": 43,
   "metadata": {},
   "outputs": [
    {
     "data": {
      "text/plain": [
       "['atomic mass unit-kilogram relationship',\n",
       " 'electron volt-kilogram relationship',\n",
       " 'hartree-kilogram relationship',\n",
       " 'hertz-kilogram relationship',\n",
       " 'inverse meter-kilogram relationship',\n",
       " 'joule-kilogram relationship',\n",
       " 'kelvin-kilogram relationship',\n",
       " 'kilogram-atomic mass unit relationship',\n",
       " 'kilogram-electron volt relationship',\n",
       " 'kilogram-hartree relationship',\n",
       " 'kilogram-hertz relationship',\n",
       " 'kilogram-inverse meter relationship',\n",
       " 'kilogram-joule relationship',\n",
       " 'kilogram-kelvin relationship']"
      ]
     },
     "execution_count": 43,
     "metadata": {},
     "output_type": "execute_result"
    }
   ],
   "source": [
    "#Exercise7\n",
    "scipy.constants.find(\"gram\") "
   ]
  },
  {
   "cell_type": "markdown",
   "metadata": {},
   "source": [
    " .find is to finds the first occurrence of the specified value."
   ]
  },
  {
   "cell_type": "code",
   "execution_count": 23,
   "metadata": {},
   "outputs": [
    {
     "name": "stdout",
     "output_type": "stream",
     "text": [
      "(1.6605390666e-27, 'kg', 5e-37)\n"
     ]
    }
   ],
   "source": [
    "#Exercise8\n",
    "print(scipy.constants.physical_constants [\"atomic mass unit-kilogram relationship\"])"
   ]
  },
  {
   "cell_type": "code",
   "execution_count": 46,
   "metadata": {},
   "outputs": [
    {
     "name": "stdout",
     "output_type": "stream",
     "text": [
      "4.044398304315679e+18\n"
     ]
    }
   ],
   "source": [
    "#Exercise9\n",
    "import scipy.constants\n",
    "m = 45\n",
    "c = scipy.constants.c\n",
    "energy = m*(c**2)\n",
    "print(energy)"
   ]
  },
  {
   "cell_type": "code",
   "execution_count": 29,
   "metadata": {},
   "outputs": [
    {
     "name": "stdout",
     "output_type": "stream",
     "text": [
      "15 21 18.0 4.0\n"
     ]
    }
   ],
   "source": [
    "#Exercise10\n",
    "import scipy.stats\n",
    "import numpy as np\n",
    "x = np.array([19 ,18 ,21 ,16 ,15 ,17 ,20 ,18]);\n",
    "print(scipy.stats.tmin(x), scipy.stats.tmax(x), scipy.stats.tmean (x), scipy.stats.tvar(x));"
   ]
  },
  {
   "cell_type": "code",
   "execution_count": 32,
   "metadata": {},
   "outputs": [
    {
     "name": "stdout",
     "output_type": "stream",
     "text": [
      "DescribeResult(nobs=8, minmax=(15, 21), mean=18.0, variance=4.0, skewness=0.0, kurtosis=-1.0)\n"
     ]
    }
   ],
   "source": [
    "#Exercise11\n",
    "print(scipy.stats.describe(x));\n"
   ]
  },
  {
   "cell_type": "code",
   "execution_count": 34,
   "metadata": {},
   "outputs": [
    {
     "name": "stdout",
     "output_type": "stream",
     "text": [
      "61.85\n",
      "[12.55838994]\n",
      "[0.01194421]\n"
     ]
    }
   ],
   "source": [
    "#Exercise12\n",
    "import scipy.stats\n",
    "import numpy as np\n",
    "student_scores = [[80] , [78] , [55] , [60] , [62] ,\n",
    "                  [59] , [48] , [49] , [51] , [54] ,\n",
    "                  [72] , [95] , [78] , [54] , [50] ,\n",
    "                  [61] , [57] , [56] , [65] , [53]\n",
    "                 ];\n",
    "print (scipy.stats.tmean(student_scores))\n",
    "print (scipy.stats.tstd(student_scores))\n",
    "print ((62 - scipy.stats.tmean(student_scores))/scipy.stats.tstd(student_scores))\n"
   ]
  },
  {
   "cell_type": "markdown",
   "metadata": {},
   "source": [
    "- find trim mean of the array.\n",
    "- find trim standard deviation of the array.\n",
    "- to calculate the z-score"
   ]
  },
  {
   "cell_type": "code",
   "execution_count": 36,
   "metadata": {},
   "outputs": [
    {
     "name": "stdout",
     "output_type": "stream",
     "text": [
      "61.85\n",
      "[12.55838994]\n",
      "[1.44524896]\n",
      "[1.28599288]\n",
      "[-0.54545209]\n",
      "[-0.14731188]\n",
      "[0.01194421]\n",
      "[-0.22693992]\n",
      "[-1.10284838]\n",
      "[-1.02322034]\n",
      "[-0.86396425]\n",
      "[-0.62508013]\n",
      "[0.80822462]\n",
      "[2.63966959]\n",
      "[1.28599288]\n",
      "[-0.62508013]\n",
      "[-0.9435923]\n",
      "[-0.06768384]\n",
      "[-0.386196]\n",
      "[-0.46582404]\n",
      "[0.25082833]\n",
      "[-0.70470817]\n"
     ]
    }
   ],
   "source": [
    "#Exercise13\n",
    "import scipy.stats\n",
    "import numpy as np\n",
    "student_scores = [[80] , [78] , [55] , [60] , [62] ,\n",
    "                  [59] , [48] , [49] , [51] , [54] ,\n",
    "                  [72] , [95] , [78] , [54] , [50] ,\n",
    "                  [61] , [57] , [56] , [65] , [53]\n",
    "                 ];\n",
    "print (scipy.stats.tmean(student_scores))\n",
    "print (scipy.stats.tstd(student_scores))\n",
    "print ((80 - scipy.stats.tmean(student_scores))/scipy.stats.tstd(student_scores))\n",
    "print ((78 - scipy.stats.tmean(student_scores))/scipy.stats.tstd(student_scores))\n",
    "print ((55 - scipy.stats.tmean(student_scores))/scipy.stats.tstd(student_scores))\n",
    "print ((60 - scipy.stats.tmean(student_scores))/scipy.stats.tstd(student_scores))\n",
    "print ((62 - scipy.stats.tmean(student_scores))/scipy.stats.tstd(student_scores))\n",
    "print ((59 - scipy.stats.tmean(student_scores))/scipy.stats.tstd(student_scores))\n",
    "print ((48 - scipy.stats.tmean(student_scores))/scipy.stats.tstd(student_scores))\n",
    "print ((49 - scipy.stats.tmean(student_scores))/scipy.stats.tstd(student_scores))\n",
    "print ((51 - scipy.stats.tmean(student_scores))/scipy.stats.tstd(student_scores))\n",
    "print ((54 - scipy.stats.tmean(student_scores))/scipy.stats.tstd(student_scores))\n",
    "print ((72 - scipy.stats.tmean(student_scores))/scipy.stats.tstd(student_scores))\n",
    "print ((95 - scipy.stats.tmean(student_scores))/scipy.stats.tstd(student_scores))\n",
    "print ((78 - scipy.stats.tmean(student_scores))/scipy.stats.tstd(student_scores))\n",
    "print ((54 - scipy.stats.tmean(student_scores))/scipy.stats.tstd(student_scores))\n",
    "print ((50 - scipy.stats.tmean(student_scores))/scipy.stats.tstd(student_scores))\n",
    "print ((61 - scipy.stats.tmean(student_scores))/scipy.stats.tstd(student_scores))\n",
    "print ((57 - scipy.stats.tmean(student_scores))/scipy.stats.tstd(student_scores))\n",
    "print ((56 - scipy.stats.tmean(student_scores))/scipy.stats.tstd(student_scores))\n",
    "print ((65 - scipy.stats.tmean(student_scores))/scipy.stats.tstd(student_scores))\n",
    "print ((53 - scipy.stats.tmean(student_scores))/scipy.stats.tstd(student_scores))\n"
   ]
  },
  {
   "cell_type": "code",
   "execution_count": null,
   "metadata": {},
   "outputs": [],
   "source": []
  }
 ],
 "metadata": {
  "kernelspec": {
   "display_name": "Python 3",
   "language": "python",
   "name": "python3"
  },
  "language_info": {
   "codemirror_mode": {
    "name": "ipython",
    "version": 3
   },
   "file_extension": ".py",
   "mimetype": "text/x-python",
   "name": "python",
   "nbconvert_exporter": "python",
   "pygments_lexer": "ipython3",
   "version": "3.8.3"
  }
 },
 "nbformat": 4,
 "nbformat_minor": 4
}
